{
  "nbformat": 4,
  "nbformat_minor": 0,
  "metadata": {
    "colab": {
      "name": "Custom_DNN.ipynb",
      "provenance": [],
      "authorship_tag": "ABX9TyPL/nsd+LCyMepczl5+/Msk",
      "include_colab_link": true
    },
    "kernelspec": {
      "name": "python3",
      "display_name": "Python 3"
    },
    "language_info": {
      "name": "python"
    }
  },
  "cells": [
    {
      "cell_type": "markdown",
      "metadata": {
        "id": "view-in-github",
        "colab_type": "text"
      },
      "source": [
        "<a href=\"https://colab.research.google.com/github/AHamamd150/Zewail-city/blob/main/Custom_DNN.ipynb\" target=\"_parent\"><img src=\"https://colab.research.google.com/assets/colab-badge.svg\" alt=\"Open In Colab\"/></a>"
      ]
    },
    {
      "cell_type": "code",
      "execution_count": 1,
      "metadata": {
        "id": "8UOlu2ouxpAr"
      },
      "outputs": [],
      "source": [
        "from tensorflow import keras\n",
        "from tensorflow.keras import layers \n",
        "import numpy as np\n",
        "import matplotlib.pyplot as plt\n",
        "from tensorflow.keras import Sequential \n",
        "from tensorflow.keras.datasets import mnist\n",
        "import tensorflow as tf"
      ]
    },
    {
      "cell_type": "code",
      "source": [
        "(x_train,y_train),(x_test,y_test) = mnist.load_data()\n",
        "x_train=x_train/255\n",
        "x_test = x_test/255\n",
        "x_train=x_train\n",
        "x_test=x_test\n"
      ],
      "metadata": {
        "id": "30uEgaBLxqP7",
        "outputId": "6731e0ee-ec50-4f80-880d-40e9237f98e0",
        "colab": {
          "base_uri": "https://localhost:8080/"
        }
      },
      "execution_count": 2,
      "outputs": [
        {
          "output_type": "stream",
          "name": "stdout",
          "text": [
            "Downloading data from https://storage.googleapis.com/tensorflow/tf-keras-datasets/mnist.npz\n",
            "11493376/11490434 [==============================] - 0s 0us/step\n",
            "11501568/11490434 [==============================] - 0s 0us/step\n"
          ]
        }
      ]
    },
    {
      "cell_type": "markdown",
      "source": [
        "# Customize our own Dense Layer"
      ],
      "metadata": {
        "id": "GKhegozlAX-Y"
      }
    },
    {
      "cell_type": "code",
      "source": [
        "\n",
        "class MyDense(tf.keras.layers.Layer):\n",
        "\n",
        "  def __init__(self, units):\n",
        "      super(MyDense, self).__init__()\n",
        "      self.units = units\n",
        "      \n",
        "  def build(self, input_shape):\n",
        "      self.w = self.add_weight(shape=(input_shape[-1], self.units),\n",
        "                               initializer='zeros',\n",
        "                               trainable=True)\n",
        "      self.b = self.add_weight(shape=(self.units,),\n",
        "                               initializer='zeros',\n",
        "                               trainable=True)\n",
        "\n",
        "  def call(self, inputs):\n",
        "      y =  tf.matmul(inputs, self.w) + self.b\n",
        "      return y\n",
        "      \n",
        "class MyRule(tf.keras.layers.Layer):\n",
        "  def __init__(self):\n",
        "    super(MyRule,self).__init__()\n",
        "\n",
        "  def call(self,x):\n",
        "    return tf.math.maximum(-0.1,x)\n",
        "\n",
        "class Mysoftmax(tf.keras.layers.Layer):\n",
        "  def __init__(self):\n",
        "    super(Mysoftmax,self).__init__()\n",
        "\n",
        "  def call(self,x):\n",
        "    return tf.math.exp(x)/tf.math.reduce_sum(tf.math.exp(x)) \n"
      ],
      "metadata": {
        "id": "7phIHkeQyBA0"
      },
      "execution_count": 3,
      "outputs": []
    },
    {
      "cell_type": "markdown",
      "source": [
        "# Our custom model "
      ],
      "metadata": {
        "id": "IvNEfqdvAzLD"
      }
    },
    {
      "cell_type": "code",
      "source": [
        "class Mymodel(keras.Model):\n",
        "    def __init__(self,outputs=10):\n",
        "         super(Mymodel,self).__init__()\n",
        "         self.outputs=outputs\n",
        "         self.dense1 = tf.keras.layers.Flatten(input_shape=(28,28))\n",
        "         self.dense2= MyDense(56)\n",
        "         self.dense3= MyDense(10)\n",
        "         self.relu = MyRule()\n",
        "         self.softmax=Mysoftmax()\n",
        "\n",
        "    def call(self,inputs):\n",
        "        x = self.dense1(inputs)\n",
        "        #x = self.relu(x)\n",
        "        #x = self.dense2(x)\n",
        "        x = self.relu(x)\n",
        "        x = self.dense3(x)\n",
        "        x = self.softmax(x)\n",
        "\n",
        "        return x\n",
        "\n",
        "model = Mymodel()"
      ],
      "metadata": {
        "id": "wLEIf7tEyJvE"
      },
      "execution_count": 4,
      "outputs": []
    },
    {
      "cell_type": "code",
      "source": [
        "model.compile(optimizer= keras.optimizers.Adam(),loss=keras.losses.SparseCategoricalCrossentropy(),metrics=['accuracy'])"
      ],
      "metadata": {
        "id": "SS4RBnvyC6DF"
      },
      "execution_count": null,
      "outputs": []
    },
    {
      "cell_type": "code",
      "source": [
        "model.fit(x_train,y_train,epochs=20,batch_size=256,validation_split=0.2)"
      ],
      "metadata": {
        "colab": {
          "base_uri": "https://localhost:8080/"
        },
        "id": "Nxa0yxZbEm29",
        "outputId": "782f2508-16d1-49a5-b872-0cbedc960457"
      },
      "execution_count": null,
      "outputs": [
        {
          "output_type": "stream",
          "name": "stdout",
          "text": [
            "Epoch 1/20\n",
            "188/188 [==============================] - 1s 5ms/step - loss: 0.9312 - accuracy: 0.8186 - val_loss: 0.5044 - val_accuracy: 0.8808\n",
            "Epoch 2/20\n",
            "188/188 [==============================] - 1s 4ms/step - loss: 0.4648 - accuracy: 0.8836 - val_loss: 0.3867 - val_accuracy: 0.9021\n",
            "Epoch 3/20\n",
            "188/188 [==============================] - 1s 4ms/step - loss: 0.3867 - accuracy: 0.8988 - val_loss: 0.3434 - val_accuracy: 0.9102\n",
            "Epoch 4/20\n",
            "188/188 [==============================] - 1s 5ms/step - loss: 0.3505 - accuracy: 0.9053 - val_loss: 0.3205 - val_accuracy: 0.9130\n",
            "Epoch 5/20\n",
            "188/188 [==============================] - 1s 4ms/step - loss: 0.3287 - accuracy: 0.9100 - val_loss: 0.3067 - val_accuracy: 0.9181\n",
            "Epoch 6/20\n",
            "188/188 [==============================] - 1s 4ms/step - loss: 0.3148 - accuracy: 0.9137 - val_loss: 0.2962 - val_accuracy: 0.9199\n",
            "Epoch 7/20\n",
            "188/188 [==============================] - 1s 4ms/step - loss: 0.3041 - accuracy: 0.9165 - val_loss: 0.2910 - val_accuracy: 0.9193\n",
            "Epoch 8/20\n",
            "188/188 [==============================] - 1s 4ms/step - loss: 0.2960 - accuracy: 0.9183 - val_loss: 0.2841 - val_accuracy: 0.9212\n",
            "Epoch 9/20\n",
            "188/188 [==============================] - 1s 4ms/step - loss: 0.2892 - accuracy: 0.9198 - val_loss: 0.2806 - val_accuracy: 0.9223\n",
            "Epoch 10/20\n",
            "188/188 [==============================] - 1s 4ms/step - loss: 0.2837 - accuracy: 0.9210 - val_loss: 0.2773 - val_accuracy: 0.9232\n",
            "Epoch 11/20\n",
            "188/188 [==============================] - 1s 4ms/step - loss: 0.2792 - accuracy: 0.9217 - val_loss: 0.2727 - val_accuracy: 0.9264\n",
            "Epoch 12/20\n",
            "188/188 [==============================] - 1s 4ms/step - loss: 0.2753 - accuracy: 0.9229 - val_loss: 0.2693 - val_accuracy: 0.9260\n",
            "Epoch 13/20\n",
            "188/188 [==============================] - 1s 5ms/step - loss: 0.2713 - accuracy: 0.9247 - val_loss: 0.2680 - val_accuracy: 0.9264\n",
            "Epoch 14/20\n",
            "188/188 [==============================] - 1s 4ms/step - loss: 0.2681 - accuracy: 0.9247 - val_loss: 0.2654 - val_accuracy: 0.9273\n",
            "Epoch 15/20\n",
            "188/188 [==============================] - 1s 4ms/step - loss: 0.2653 - accuracy: 0.9257 - val_loss: 0.2651 - val_accuracy: 0.9267\n",
            "Epoch 16/20\n",
            "188/188 [==============================] - 1s 4ms/step - loss: 0.2632 - accuracy: 0.9257 - val_loss: 0.2622 - val_accuracy: 0.9285\n",
            "Epoch 17/20\n",
            "188/188 [==============================] - 1s 4ms/step - loss: 0.2602 - accuracy: 0.9273 - val_loss: 0.2625 - val_accuracy: 0.9281\n",
            "Epoch 18/20\n",
            "188/188 [==============================] - 1s 4ms/step - loss: 0.2587 - accuracy: 0.9270 - val_loss: 0.2602 - val_accuracy: 0.9285\n",
            "Epoch 19/20\n",
            "188/188 [==============================] - 1s 5ms/step - loss: 0.2563 - accuracy: 0.9280 - val_loss: 0.2588 - val_accuracy: 0.9294\n",
            "Epoch 20/20\n",
            "188/188 [==============================] - 1s 4ms/step - loss: 0.2546 - accuracy: 0.9287 - val_loss: 0.2585 - val_accuracy: 0.9294\n"
          ]
        },
        {
          "output_type": "execute_result",
          "data": {
            "text/plain": [
              "<keras.callbacks.History at 0x7fd3d03a4f10>"
            ]
          },
          "metadata": {},
          "execution_count": 102
        }
      ]
    },
    {
      "cell_type": "code",
      "source": [
        "model.evaluate(x_test,y_test,verbose=0)[-1]"
      ],
      "metadata": {
        "colab": {
          "base_uri": "https://localhost:8080/"
        },
        "id": "crKjQx3BExRE",
        "outputId": "e3c67e32-84ad-47b9-d7e8-d7801f090113"
      },
      "execution_count": null,
      "outputs": [
        {
          "output_type": "execute_result",
          "data": {
            "text/plain": [
              "0.9271000027656555"
            ]
          },
          "metadata": {},
          "execution_count": 90
        }
      ]
    },
    {
      "cell_type": "code",
      "source": [
        "n_epochs = 20\n",
        "batch_size = 256\n",
        "n_steps = len(x_train) // batch_size\n",
        "optimizer = keras.optimizers.Nadam(learning_rate=0.01)\n",
        "loss_fn = keras.losses.mean_squared_error\n",
        "mean_loss = keras.metrics.Mean()\n",
        "metrics = [keras.metrics.MeanAbsoluteError()]\n"
      ],
      "metadata": {
        "id": "fo8N3VE0_7Zv"
      },
      "execution_count": 7,
      "outputs": []
    },
    {
      "cell_type": "code",
      "source": [
        "def random_batch(X, y, batch_size=32):\n",
        "  idx = np.random.randint(len(X), size=batch_size) \n",
        "  return X[idx], y[idx]\n",
        "\n",
        "for epoch in range(1, n_epochs + 1): \n",
        "  print(\"Epoch {}/{}\".format(epoch, n_epochs))\n",
        "  for step in range(1, n_steps + 1):\n",
        "    X_batch, y_batch = random_batch(x_train, y_train)\n",
        "    with tf.GradientTape() as tape:\n",
        "      y_pred = model(X_batch, training=True)\n",
        "      main_loss = tf.reduce_mean(loss_fn(y_batch, y_pred))\n",
        "      loss = tf.add_n([main_loss] + model.losses)\n",
        "    gradients = tape.gradient(loss, model.trainable_variables)\n",
        "    optimizer.apply_gradients(zip(gradients, model.trainable_variables)) \n",
        "    mean_loss(loss)\n",
        "    for metric in metrics: \n",
        "      metric(y_batch, y_pred)\n",
        "    print_status_bar(step * batch_size, len(y_train), mean_loss, metrics)  \n",
        "    print_status_bar(len(y_train), len(y_train), mean_loss, metrics)\n",
        "    for metric in [mean_loss] + metrics:\n",
        "      metric.reset_states()"
      ],
      "metadata": {
        "id": "a5VdrPlyJw8K",
        "outputId": "d0b310f9-f653-4c71-bdc0-01b0388730bb",
        "colab": {
          "base_uri": "https://localhost:8080/",
          "height": 398
        }
      },
      "execution_count": 11,
      "outputs": [
        {
          "output_type": "stream",
          "name": "stdout",
          "text": [
            "Epoch 1/20\n"
          ]
        },
        {
          "output_type": "error",
          "ename": "InvalidArgumentError",
          "evalue": "ignored",
          "traceback": [
            "\u001b[0;31m---------------------------------------------------------------------------\u001b[0m",
            "\u001b[0;31mInvalidArgumentError\u001b[0m                      Traceback (most recent call last)",
            "\u001b[0;32m<ipython-input-11-6deb01747d47>\u001b[0m in \u001b[0;36m<module>\u001b[0;34m()\u001b[0m\n\u001b[1;32m      9\u001b[0m     \u001b[0;32mwith\u001b[0m \u001b[0mtf\u001b[0m\u001b[0;34m.\u001b[0m\u001b[0mGradientTape\u001b[0m\u001b[0;34m(\u001b[0m\u001b[0;34m)\u001b[0m \u001b[0;32mas\u001b[0m \u001b[0mtape\u001b[0m\u001b[0;34m:\u001b[0m\u001b[0;34m\u001b[0m\u001b[0;34m\u001b[0m\u001b[0m\n\u001b[1;32m     10\u001b[0m       \u001b[0my_pred\u001b[0m \u001b[0;34m=\u001b[0m \u001b[0mmodel\u001b[0m\u001b[0;34m(\u001b[0m\u001b[0mX_batch\u001b[0m\u001b[0;34m,\u001b[0m \u001b[0mtraining\u001b[0m\u001b[0;34m=\u001b[0m\u001b[0;32mTrue\u001b[0m\u001b[0;34m)\u001b[0m\u001b[0;34m\u001b[0m\u001b[0;34m\u001b[0m\u001b[0m\n\u001b[0;32m---> 11\u001b[0;31m       \u001b[0mmain_loss\u001b[0m \u001b[0;34m=\u001b[0m \u001b[0mtf\u001b[0m\u001b[0;34m.\u001b[0m\u001b[0mreduce_mean\u001b[0m\u001b[0;34m(\u001b[0m\u001b[0mloss_fn\u001b[0m\u001b[0;34m(\u001b[0m\u001b[0my_batch\u001b[0m\u001b[0;34m,\u001b[0m \u001b[0my_pred\u001b[0m\u001b[0;34m)\u001b[0m\u001b[0;34m)\u001b[0m\u001b[0;34m\u001b[0m\u001b[0;34m\u001b[0m\u001b[0m\n\u001b[0m\u001b[1;32m     12\u001b[0m       \u001b[0mloss\u001b[0m \u001b[0;34m=\u001b[0m \u001b[0mtf\u001b[0m\u001b[0;34m.\u001b[0m\u001b[0madd_n\u001b[0m\u001b[0;34m(\u001b[0m\u001b[0;34m[\u001b[0m\u001b[0mmain_loss\u001b[0m\u001b[0;34m]\u001b[0m \u001b[0;34m+\u001b[0m \u001b[0mmodel\u001b[0m\u001b[0;34m.\u001b[0m\u001b[0mlosses\u001b[0m\u001b[0;34m)\u001b[0m\u001b[0;34m\u001b[0m\u001b[0;34m\u001b[0m\u001b[0m\n\u001b[1;32m     13\u001b[0m     \u001b[0mgradients\u001b[0m \u001b[0;34m=\u001b[0m \u001b[0mtape\u001b[0m\u001b[0;34m.\u001b[0m\u001b[0mgradient\u001b[0m\u001b[0;34m(\u001b[0m\u001b[0mloss\u001b[0m\u001b[0;34m,\u001b[0m \u001b[0mmodel\u001b[0m\u001b[0;34m.\u001b[0m\u001b[0mtrainable_variables\u001b[0m\u001b[0;34m)\u001b[0m\u001b[0;34m\u001b[0m\u001b[0;34m\u001b[0m\u001b[0m\n",
            "\u001b[0;32m/usr/local/lib/python3.7/dist-packages/tensorflow/python/util/traceback_utils.py\u001b[0m in \u001b[0;36merror_handler\u001b[0;34m(*args, **kwargs)\u001b[0m\n\u001b[1;32m    151\u001b[0m     \u001b[0;32mexcept\u001b[0m \u001b[0mException\u001b[0m \u001b[0;32mas\u001b[0m \u001b[0me\u001b[0m\u001b[0;34m:\u001b[0m\u001b[0;34m\u001b[0m\u001b[0;34m\u001b[0m\u001b[0m\n\u001b[1;32m    152\u001b[0m       \u001b[0mfiltered_tb\u001b[0m \u001b[0;34m=\u001b[0m \u001b[0m_process_traceback_frames\u001b[0m\u001b[0;34m(\u001b[0m\u001b[0me\u001b[0m\u001b[0;34m.\u001b[0m\u001b[0m__traceback__\u001b[0m\u001b[0;34m)\u001b[0m\u001b[0;34m\u001b[0m\u001b[0;34m\u001b[0m\u001b[0m\n\u001b[0;32m--> 153\u001b[0;31m       \u001b[0;32mraise\u001b[0m \u001b[0me\u001b[0m\u001b[0;34m.\u001b[0m\u001b[0mwith_traceback\u001b[0m\u001b[0;34m(\u001b[0m\u001b[0mfiltered_tb\u001b[0m\u001b[0;34m)\u001b[0m \u001b[0;32mfrom\u001b[0m \u001b[0;32mNone\u001b[0m\u001b[0;34m\u001b[0m\u001b[0;34m\u001b[0m\u001b[0m\n\u001b[0m\u001b[1;32m    154\u001b[0m     \u001b[0;32mfinally\u001b[0m\u001b[0;34m:\u001b[0m\u001b[0;34m\u001b[0m\u001b[0;34m\u001b[0m\u001b[0m\n\u001b[1;32m    155\u001b[0m       \u001b[0;32mdel\u001b[0m \u001b[0mfiltered_tb\u001b[0m\u001b[0;34m\u001b[0m\u001b[0;34m\u001b[0m\u001b[0m\n",
            "\u001b[0;32m/usr/local/lib/python3.7/dist-packages/keras/losses.py\u001b[0m in \u001b[0;36mmean_squared_error\u001b[0;34m(y_true, y_pred)\u001b[0m\n\u001b[1;32m   1327\u001b[0m   \u001b[0my_pred\u001b[0m \u001b[0;34m=\u001b[0m \u001b[0mtf\u001b[0m\u001b[0;34m.\u001b[0m\u001b[0mconvert_to_tensor\u001b[0m\u001b[0;34m(\u001b[0m\u001b[0my_pred\u001b[0m\u001b[0;34m)\u001b[0m\u001b[0;34m\u001b[0m\u001b[0;34m\u001b[0m\u001b[0m\n\u001b[1;32m   1328\u001b[0m   \u001b[0my_true\u001b[0m \u001b[0;34m=\u001b[0m \u001b[0mtf\u001b[0m\u001b[0;34m.\u001b[0m\u001b[0mcast\u001b[0m\u001b[0;34m(\u001b[0m\u001b[0my_true\u001b[0m\u001b[0;34m,\u001b[0m \u001b[0my_pred\u001b[0m\u001b[0;34m.\u001b[0m\u001b[0mdtype\u001b[0m\u001b[0;34m)\u001b[0m\u001b[0;34m\u001b[0m\u001b[0;34m\u001b[0m\u001b[0m\n\u001b[0;32m-> 1329\u001b[0;31m   \u001b[0;32mreturn\u001b[0m \u001b[0mbackend\u001b[0m\u001b[0;34m.\u001b[0m\u001b[0mmean\u001b[0m\u001b[0;34m(\u001b[0m\u001b[0mtf\u001b[0m\u001b[0;34m.\u001b[0m\u001b[0mmath\u001b[0m\u001b[0;34m.\u001b[0m\u001b[0msquared_difference\u001b[0m\u001b[0;34m(\u001b[0m\u001b[0my_pred\u001b[0m\u001b[0;34m,\u001b[0m \u001b[0my_true\u001b[0m\u001b[0;34m)\u001b[0m\u001b[0;34m,\u001b[0m \u001b[0maxis\u001b[0m\u001b[0;34m=\u001b[0m\u001b[0;34m-\u001b[0m\u001b[0;36m1\u001b[0m\u001b[0;34m)\u001b[0m\u001b[0;34m\u001b[0m\u001b[0;34m\u001b[0m\u001b[0m\n\u001b[0m\u001b[1;32m   1330\u001b[0m \u001b[0;34m\u001b[0m\u001b[0m\n\u001b[1;32m   1331\u001b[0m \u001b[0;34m\u001b[0m\u001b[0m\n",
            "\u001b[0;31mInvalidArgumentError\u001b[0m: Incompatible shapes: [32,10] vs. [32] [Op:SquaredDifference]"
          ]
        }
      ]
    },
    {
      "cell_type": "code",
      "source": [
        ""
      ],
      "metadata": {
        "id": "96tYqaE-AHxy"
      },
      "execution_count": null,
      "outputs": []
    }
  ]
}