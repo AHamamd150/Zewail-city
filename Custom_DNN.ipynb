{
  "nbformat": 4,
  "nbformat_minor": 0,
  "metadata": {
    "colab": {
      "name": "Custom_DNN.ipynb",
      "provenance": [],
      "authorship_tag": "ABX9TyM5HwGVtQtfDlPhhm8unRM0",
      "include_colab_link": true
    },
    "kernelspec": {
      "name": "python3",
      "display_name": "Python 3"
    },
    "language_info": {
      "name": "python"
    }
  },
  "cells": [
    {
      "cell_type": "markdown",
      "metadata": {
        "id": "view-in-github",
        "colab_type": "text"
      },
      "source": [
        "<a href=\"https://colab.research.google.com/github/AHamamd150/Zewail-city/blob/main/Custom_DNN.ipynb\" target=\"_parent\"><img src=\"https://colab.research.google.com/assets/colab-badge.svg\" alt=\"Open In Colab\"/></a>"
      ]
    },
    {
      "cell_type": "code",
      "execution_count": 2,
      "metadata": {
        "id": "8UOlu2ouxpAr"
      },
      "outputs": [],
      "source": [
        "from tensorflow import keras\n",
        "from tensorflow.keras import layers \n",
        "import numpy as np\n",
        "import matplotlib.pyplot as plt\n",
        "from tensorflow.keras import Sequential \n",
        "from tensorflow.keras.datasets import mnist\n",
        "import tensorflow as tf"
      ]
    },
    {
      "cell_type": "code",
      "source": [
        "(x_train,y_train),(x_test,y_test) = mnist.load_data()\n",
        "x_train=x_train/255\n",
        "x_test = x_test/255\n",
        "x_train=x_train\n",
        "x_test=x_test\n"
      ],
      "metadata": {
        "id": "30uEgaBLxqP7"
      },
      "execution_count": 3,
      "outputs": []
    },
    {
      "cell_type": "markdown",
      "source": [
        "# Customize our own Dense Layer"
      ],
      "metadata": {
        "id": "GKhegozlAX-Y"
      }
    },
    {
      "cell_type": "code",
      "source": [
        "\n",
        "class MyDense(tf.keras.layers.Layer):\n",
        "\n",
        "  def __init__(self, units):\n",
        "      super(MyDense, self).__init__()\n",
        "      self.units = units\n",
        "      \n",
        "  def build(self, input_shape):\n",
        "      self.w = self.add_weight(shape=(input_shape[-1], self.units),\n",
        "                               initializer='zeros',\n",
        "                               trainable=True)\n",
        "      self.b = self.add_weight(shape=(self.units,),\n",
        "                               initializer='zeros',\n",
        "                               trainable=True)\n",
        "\n",
        "  def call(self, inputs):\n",
        "      y =  tf.matmul(inputs, self.w) + self.b\n",
        "      return y\n",
        "      \n",
        "class MyRule(tf.keras.layers.Layer):\n",
        "  def __init__(self):\n",
        "    super(MyRule,self).__init__()\n",
        "\n",
        "  def call(self,x):\n",
        "    return tf.math.maximum(-0.1,x)\n",
        "\n",
        "class Mysoftmax(tf.keras.layers.Layer):\n",
        "  def __init__(self):\n",
        "    super(Mysoftmax,self).__init__()\n",
        "\n",
        "  def call(self,x):\n",
        "    return tf.math.exp(x)/tf.math.reduce_sum(tf.math.exp(x)) \n"
      ],
      "metadata": {
        "id": "7phIHkeQyBA0"
      },
      "execution_count": 72,
      "outputs": []
    },
    {
      "cell_type": "markdown",
      "source": [
        "# Our custom model "
      ],
      "metadata": {
        "id": "IvNEfqdvAzLD"
      }
    },
    {
      "cell_type": "code",
      "source": [
        "class Mymodel(keras.Model):\n",
        "    def __init__(self,outputs=10):\n",
        "         super(Mymodel,self).__init__()\n",
        "         self.outputs=outputs\n",
        "         self.dense1 = tf.keras.layers.Flatten(input_shape=(28,28))\n",
        "         self.dense3= MyDense(10)\n",
        "         self.relu = MyRule()\n",
        "         self.softmax=Mysoftmax()\n",
        "\n",
        "    def call(self,inputs):\n",
        "        x = self.dense1(inputs)\n",
        "        #x = self.relu(x)\n",
        "        x = self.relu(x)\n",
        "        x = self.dense3(x)\n",
        "        x = self.softmax(x)\n",
        "\n",
        "        return x\n",
        "\n",
        "model = Mymodel()"
      ],
      "metadata": {
        "id": "wLEIf7tEyJvE"
      },
      "execution_count": 85,
      "outputs": []
    },
    {
      "cell_type": "code",
      "source": [
        "model.compile(optimizer= keras.optimizers.Adam(),loss=keras.losses.SparseCategoricalCrossentropy(),metrics=['accuracy'])"
      ],
      "metadata": {
        "id": "SS4RBnvyC6DF"
      },
      "execution_count": 86,
      "outputs": []
    },
    {
      "cell_type": "code",
      "source": [
        "model.fit(x_train,y_train,epochs=20,batch_size=256,validation_split=0.2)"
      ],
      "metadata": {
        "colab": {
          "base_uri": "https://localhost:8080/"
        },
        "id": "Nxa0yxZbEm29",
        "outputId": "e4851287-5e76-4b2d-aa34-0fa39528a4a8"
      },
      "execution_count": 87,
      "outputs": [
        {
          "output_type": "stream",
          "name": "stdout",
          "text": [
            "Epoch 1/20\n",
            "188/188 [==============================] - 1s 6ms/step - loss: 0.9300 - accuracy: 0.8121 - val_loss: 0.5045 - val_accuracy: 0.8832\n",
            "Epoch 2/20\n",
            "188/188 [==============================] - 1s 5ms/step - loss: 0.4651 - accuracy: 0.8842 - val_loss: 0.3875 - val_accuracy: 0.9019\n",
            "Epoch 3/20\n",
            "188/188 [==============================] - 1s 5ms/step - loss: 0.3870 - accuracy: 0.8982 - val_loss: 0.3435 - val_accuracy: 0.9089\n",
            "Epoch 4/20\n",
            "188/188 [==============================] - 1s 5ms/step - loss: 0.3503 - accuracy: 0.9057 - val_loss: 0.3216 - val_accuracy: 0.9133\n",
            "Epoch 5/20\n",
            "188/188 [==============================] - 1s 5ms/step - loss: 0.3288 - accuracy: 0.9104 - val_loss: 0.3069 - val_accuracy: 0.9165\n",
            "Epoch 6/20\n",
            "188/188 [==============================] - 1s 5ms/step - loss: 0.3144 - accuracy: 0.9137 - val_loss: 0.2976 - val_accuracy: 0.9196\n",
            "Epoch 7/20\n",
            "188/188 [==============================] - 1s 5ms/step - loss: 0.3040 - accuracy: 0.9163 - val_loss: 0.2903 - val_accuracy: 0.9208\n",
            "Epoch 8/20\n",
            "188/188 [==============================] - 1s 6ms/step - loss: 0.2960 - accuracy: 0.9179 - val_loss: 0.2841 - val_accuracy: 0.9208\n",
            "Epoch 9/20\n",
            "188/188 [==============================] - 1s 7ms/step - loss: 0.2892 - accuracy: 0.9195 - val_loss: 0.2796 - val_accuracy: 0.9233\n",
            "Epoch 10/20\n",
            "188/188 [==============================] - 1s 6ms/step - loss: 0.2838 - accuracy: 0.9212 - val_loss: 0.2755 - val_accuracy: 0.9241\n",
            "Epoch 11/20\n",
            "188/188 [==============================] - 1s 8ms/step - loss: 0.2790 - accuracy: 0.9221 - val_loss: 0.2723 - val_accuracy: 0.9248\n",
            "Epoch 12/20\n",
            "188/188 [==============================] - 1s 7ms/step - loss: 0.2753 - accuracy: 0.9236 - val_loss: 0.2696 - val_accuracy: 0.9265\n",
            "Epoch 13/20\n",
            "188/188 [==============================] - 1s 7ms/step - loss: 0.2714 - accuracy: 0.9237 - val_loss: 0.2686 - val_accuracy: 0.9261\n",
            "Epoch 14/20\n",
            "188/188 [==============================] - 1s 6ms/step - loss: 0.2685 - accuracy: 0.9252 - val_loss: 0.2654 - val_accuracy: 0.9282\n",
            "Epoch 15/20\n",
            "188/188 [==============================] - 1s 7ms/step - loss: 0.2656 - accuracy: 0.9258 - val_loss: 0.2654 - val_accuracy: 0.9270\n",
            "Epoch 16/20\n",
            "188/188 [==============================] - 1s 6ms/step - loss: 0.2627 - accuracy: 0.9263 - val_loss: 0.2628 - val_accuracy: 0.9279\n",
            "Epoch 17/20\n",
            "188/188 [==============================] - 1s 6ms/step - loss: 0.2607 - accuracy: 0.9264 - val_loss: 0.2605 - val_accuracy: 0.9286\n",
            "Epoch 18/20\n",
            "188/188 [==============================] - 1s 6ms/step - loss: 0.2583 - accuracy: 0.9271 - val_loss: 0.2609 - val_accuracy: 0.9290\n",
            "Epoch 19/20\n",
            "188/188 [==============================] - 1s 6ms/step - loss: 0.2564 - accuracy: 0.9280 - val_loss: 0.2599 - val_accuracy: 0.9293\n",
            "Epoch 20/20\n",
            "188/188 [==============================] - 1s 6ms/step - loss: 0.2547 - accuracy: 0.9281 - val_loss: 0.2584 - val_accuracy: 0.9294\n"
          ]
        },
        {
          "output_type": "execute_result",
          "data": {
            "text/plain": [
              "<keras.callbacks.History at 0x7fd3d7d04a50>"
            ]
          },
          "metadata": {},
          "execution_count": 87
        }
      ]
    },
    {
      "cell_type": "code",
      "source": [
        "model.evaluate(x_test,y_test,verbose=0)[-1]"
      ],
      "metadata": {
        "colab": {
          "base_uri": "https://localhost:8080/"
        },
        "id": "crKjQx3BExRE",
        "outputId": "e3c67e32-84ad-47b9-d7e8-d7801f090113"
      },
      "execution_count": 90,
      "outputs": [
        {
          "output_type": "execute_result",
          "data": {
            "text/plain": [
              "0.9271000027656555"
            ]
          },
          "metadata": {},
          "execution_count": 90
        }
      ]
    },
    {
      "cell_type": "code",
      "source": [
        ""
      ],
      "metadata": {
        "id": "a5VdrPlyJw8K"
      },
      "execution_count": null,
      "outputs": []
    }
  ]
}